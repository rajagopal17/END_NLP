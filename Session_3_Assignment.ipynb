{
  "nbformat": 4,
  "nbformat_minor": 0,
  "metadata": {
    "colab": {
      "name": "Session_3_Assignment.ipynb",
      "provenance": [],
      "collapsed_sections": [],
      "toc_visible": true,
      "authorship_tag": "ABX9TyPSqpuYqwdj17D4tufPBA4T",
      "include_colab_link": true
    },
    "kernelspec": {
      "name": "python3",
      "display_name": "Python 3"
    }
  },
  "cells": [
    {
      "cell_type": "markdown",
      "metadata": {
        "id": "view-in-github",
        "colab_type": "text"
      },
      "source": [
        "<a href=\"https://colab.research.google.com/github/rajagopal17/END_NLP/blob/main/Session_3_Assignment.ipynb\" target=\"_parent\"><img src=\"https://colab.research.google.com/assets/colab-badge.svg\" alt=\"Open In Colab\"/></a>"
      ]
    },
    {
      "cell_type": "code",
      "metadata": {
        "id": "LdGB9WLTDONm"
      },
      "source": [
        "import numpy as np\n",
        "import pandas as pd\n",
        "import spacy\n",
        "from spacy.tokens import doc\n",
        "nlp=spacy.load('en')\n",
        "import en_core_web_sm"
      ],
      "execution_count": 8,
      "outputs": []
    },
    {
      "cell_type": "markdown",
      "metadata": {
        "id": "sf8oOsr6Dar1"
      },
      "source": [
        "# 1. Write a function using only list filter lambda that can tell whether a number is a Fibonacci number or not. You can use a pre-calculated list/dict to store fab numbers till 10000"
      ]
    },
    {
      "cell_type": "code",
      "metadata": {
        "id": "Wz_j-zsqDjeZ",
        "outputId": "854bebbb-c26d-4860-f73a-0ff3377fa624",
        "colab": {
          "base_uri": "https://localhost:8080/"
        }
      },
      "source": [
        "flist= [0, 1, 1, 2, 3, 5, 8, 13, 21, 34, 55, 89, 144, 233, 377, 610, 987, 1597, 2584, 4181, 6765]\n",
        "\n",
        "n=[14]\n",
        "#result= list(filter(lambda x :print(bool( x in flist)),n))\n",
        "result= list(filter(lambda x :print(f'the number {n} is a fibobacci number :{bool( x in flist)}'),n))"
      ],
      "execution_count": 34,
      "outputs": [
        {
          "output_type": "stream",
          "text": [
            "the number [14] is a fibobacci number :False\n"
          ],
          "name": "stdout"
        }
      ]
    },
    {
      "cell_type": "markdown",
      "metadata": {
        "id": "QzwbFBhHx3OQ"
      },
      "source": [
        "# 2.Using list comprehension (and zip/lambda/etc if required) write five different expressions that: PTS:100\n",
        "add 2 iterables a and b such that a is even and b is odd\n",
        "\n",
        "strips every vowel from a string provided (tsai>>t s)\n",
        "\n",
        "acts like a ReLU function for a 1D array\n",
        "\n",
        "acts like a sigmoid function for a 1D array\n",
        "\n",
        "takes a small character string and shifts all characters by 5 (handle boundary conditions) tsai>>yxfn"
      ]
    },
    {
      "cell_type": "code",
      "metadata": {
        "id": "O8e__P1MyBGQ",
        "outputId": "5c2d6a10-6ec3-45d8-d5e1-03ae643edeed",
        "colab": {
          "base_uri": "https://localhost:8080/"
        }
      },
      "source": [
        "#add 2 iterables a and b such that a is even and b is odd\n",
        "\n",
        "num=[1,2,3,4,5,6,7,8,9,10]\n",
        "\n",
        "a=list(filter(lambda x: x%2==0,num))#get even numbers\n",
        "b=list(filter(lambda x: x%2 !=0,num))# get odd numbers\n",
        "\n",
        "print(f'even number list   -- {a}')\n",
        "print(f'odd number list    --{b}')\n",
        "\n",
        "final_list=[]\n",
        "final_list = [a[i] + b[i] for i in range(len(a))] \n",
        "print(f'total of two lists --{final_list}')\n"
      ],
      "execution_count": 35,
      "outputs": [
        {
          "output_type": "stream",
          "text": [
            "even number list   -- [2, 4, 6, 8, 10]\n",
            "odd number list    --[1, 3, 5, 7, 9]\n",
            "total of two lists --[3, 7, 11, 15, 19]\n"
          ],
          "name": "stdout"
        }
      ]
    },
    {
      "cell_type": "code",
      "metadata": {
        "id": "-LvuY5zux7GE",
        "outputId": "9a95c8c4-3b9e-4d82-c535-68db26e84997",
        "colab": {
          "base_uri": "https://localhost:8080/"
        }
      },
      "source": [
        "#strips every vowel from a string provided (tsai>>t s)\n",
        "  \n",
        "vowels = [\"a\",\"e\",\"i\",\"o\",\"u\"] \n",
        "word =   \"tsai\"\n",
        "\n",
        "word_list= [i for i in str(word) if i not in vowels] #filter the vowels from 'word' from vowels list and convert the string to list \n",
        " \n",
        "word_str = ''.join(map(str, word_list))  # convert the filtered list back to string\n",
        "print(word_str)\n"
      ],
      "execution_count": 37,
      "outputs": [
        {
          "output_type": "stream",
          "text": [
            "ts\n"
          ],
          "name": "stdout"
        }
      ]
    },
    {
      "cell_type": "code",
      "metadata": {
        "id": "x37ppvJfy8K_",
        "outputId": "f3f61fed-59bf-42a3-9ba2-6ca633a3a397",
        "colab": {
          "base_uri": "https://localhost:8080/"
        }
      },
      "source": [
        "#acts like a ReLU function for a 1D array\n",
        "\n",
        "d_list=[-2,-4,-6,2,1,0,3,2,6,-3,0,15]\n",
        "\n",
        "relu_list=[i if i >0 else 0 for i in d_list]\n",
        "relu_list"
      ],
      "execution_count": 39,
      "outputs": [
        {
          "output_type": "execute_result",
          "data": {
            "text/plain": [
              "[0, 0, 0, 2, 1, 0, 3, 2, 6, 0, 0, 15]"
            ]
          },
          "metadata": {
            "tags": []
          },
          "execution_count": 39
        }
      ]
    },
    {
      "cell_type": "code",
      "metadata": {
        "id": "drCzuaKQ1Lhf",
        "outputId": "137f54fb-fc60-4ddc-913c-1883075692ce",
        "colab": {
          "base_uri": "https://localhost:8080/"
        }
      },
      "source": [
        "#acts like a sigmoid function for a 1D array\n",
        "s_list=[-2.1,-4.1,-6.1,2.5,0,0.5,0.65,2,4.5,-0.5,0,1]\n",
        "\n",
        "sig_list=[0 if i<= 0 else 1 for i in s_list]\n",
        "sig_list\n"
      ],
      "execution_count": 40,
      "outputs": [
        {
          "output_type": "execute_result",
          "data": {
            "text/plain": [
              "[0, 0, 0, 1, 0, 1, 1, 1, 1, 0, 0, 1]"
            ]
          },
          "metadata": {
            "tags": []
          },
          "execution_count": 40
        }
      ]
    },
    {
      "cell_type": "code",
      "metadata": {
        "id": "q5cndpI26hOd"
      },
      "source": [
        "#takes a small character string and shifts all characters by 5 (handle boundary conditions) tsai>>yxfn"
      ],
      "execution_count": null,
      "outputs": []
    },
    {
      "cell_type": "markdown",
      "metadata": {
        "id": "NE2rdZpr6qkt"
      },
      "source": [
        "# 3.A list comprehension expression that takes a ~200 word paragraph (write your own paragraph to check), and checks whether it has any of the swear words mentioned in https://github.com/RobertJGabriel/Google-profanity-words/blob/master/list.txt PTS:200"
      ]
    },
    {
      "cell_type": "code",
      "metadata": {
        "id": "-iXTxBFi6xO1",
        "outputId": "35e4c746-e5ca-4659-983d-95fa293db08d",
        "colab": {
          "base_uri": "https://localhost:8080/"
        }
      },
      "source": [
        "!git clone https://github.com/RobertJGabriel/Google-profanity-words.git #Clone the txt file"
      ],
      "execution_count": 41,
      "outputs": [
        {
          "output_type": "stream",
          "text": [
            "Cloning into 'Google-profanity-words'...\n",
            "remote: Enumerating objects: 9, done.\u001b[K\n",
            "remote: Counting objects: 100% (9/9), done.\u001b[K\n",
            "remote: Compressing objects: 100% (9/9), done.\u001b[K\n",
            "remote: Total 25 (delta 2), reused 0 (delta 0), pack-reused 16\u001b[K\n",
            "Unpacking objects: 100% (25/25), done.\n"
          ],
          "name": "stdout"
        }
      ]
    },
    {
      "cell_type": "code",
      "metadata": {
        "id": "jW7LVsZG8JA1"
      },
      "source": [
        "sw_words=pd.read_csv('/content/Google-profanity-words/list.txt') #read the file\n",
        "file_path=('/content/sample_data/sw_words')# file path for storing the file\n",
        "swear_words=sw_words.to_csv(file_path,header=['fwords'],index=False) # store the file as a dataframe with header"
      ],
      "execution_count": 42,
      "outputs": []
    },
    {
      "cell_type": "code",
      "metadata": {
        "id": "f2_HAwWkKWFi"
      },
      "source": [
        "sw_words=pd.read_csv(file_path) # read the file as dataframe\n",
        "swears_list=sw_words['fwords'].values #get the swear words in a array\n"
      ],
      "execution_count": 43,
      "outputs": []
    },
    {
      "cell_type": "code",
      "metadata": {
        "id": "0iROCmXKJjMR"
      },
      "source": [
        "#below is the list of swear words extracted in array and displayed here\n",
        "swears_list=['5h1t', '5hit', 'a55', 'anal', 'anus', 'ar5e', 'arrse', 'arse',\n",
        "       'ass', 'ass-fucker', 'asses', 'assfucker', 'assfukka', 'asshole',\n",
        "       'assholes', 'asswhole', 'a_s_s', 'b!tch', 'b00bs', 'b17ch',\n",
        "       'b1tch', 'ballbag', 'balls', 'ballsack', 'bastard', 'beastial',\n",
        "       'beastiality', 'bellend', 'bestial', 'bestiality', 'bi+ch',\n",
        "       'biatch', 'bitch', 'bitcher', 'bitchers', 'bitches', 'bitchin',\n",
        "       'bitching', 'bloody', 'blow job', 'blowjob', 'blowjobs', 'boiolas',\n",
        "       'bollock', 'bollok', 'boner', 'boob', 'boobs', 'booobs', 'boooobs',\n",
        "       'booooobs', 'booooooobs', 'breasts', 'buceta', 'bugger', 'bum',\n",
        "       'bunny fucker', 'butt', 'butthole', 'buttmunch', 'buttplug',\n",
        "       'c0ck', 'c0cksucker', 'carpet muncher', 'cawk', 'chink', 'cipa',\n",
        "       'cl1t', 'clit', 'clitoris', 'clits', 'cnut', 'cock', 'cock-sucker',\n",
        "       'cockface', 'cockhead', 'cockmunch', 'cockmuncher', 'cocks',\n",
        "       'cocksuck ', 'cocksucked ', 'cocksucker', 'cocksucking',\n",
        "       'cocksucks ', 'cocksuka', 'cocksukka', 'cok', 'cokmuncher',\n",
        "       'coksucka', 'coon', 'cox', 'crap', 'cum', 'cummer', 'cumming',\n",
        "       'cums', 'cumshot', 'cunilingus', 'cunillingus', 'cunnilingus',\n",
        "       'cunt', 'cuntlick ', 'cuntlicker ', 'cuntlicking ', 'cunts',\n",
        "       'cyalis', 'cyberfuc', 'cyberfuck ', 'cyberfucked ', 'cyberfucker',\n",
        "       'cyberfuckers', 'cyberfucking ', 'd1ck', 'damn', 'dick',\n",
        "       'dickhead', 'dildo', 'dildos', 'dink', 'dinks', 'dirsa', 'dlck',\n",
        "       'dog-fucker', 'doggin', 'dogging', 'donkeyribber', 'doosh',\n",
        "       'duche', 'dyke', 'ejaculate', 'ejaculated', 'ejaculates ',\n",
        "       'ejaculating ', 'ejaculatings', 'ejaculation', 'ejakulate',\n",
        "       'f u c k', 'f u c k e r', 'f4nny', 'fag', 'fagging', 'faggitt',\n",
        "       'faggot', 'faggs', 'fagot', 'fagots', 'fags', 'fanny',\n",
        "       'fannyflaps', 'fannyfucker', 'fanyy', 'fatass', 'fcuk', 'fcuker',\n",
        "       'fcuking', 'feck', 'fecker', 'felching', 'fellate', 'fellatio',\n",
        "       'fingerfuck ', 'fingerfucked ', 'fingerfucker ', 'fingerfuckers',\n",
        "       'fingerfucking ', 'fingerfucks ', 'fistfuck', 'fistfucked ',\n",
        "       'fistfucker ', 'fistfuckers ', 'fistfucking ', 'fistfuckings ',\n",
        "       'fistfucks ', 'flange', 'fook', 'fooker', 'fuck', 'fucka',\n",
        "       'fucked', 'fucker', 'fuckers', 'fuckhead', 'fuckheads', 'fuckin',\n",
        "       'fucking', 'fuckings', 'fuckingshitmotherfucker', 'fuckme ',\n",
        "       'fucks', 'fuckwhit', 'fuckwit', 'fudge packer', 'fudgepacker',\n",
        "       'fuk', 'fuker', 'fukker', 'fukkin', 'fuks', 'fukwhit', 'fukwit',\n",
        "       'fux', 'fux0r', 'f_u_c_k', 'gangbang', 'gangbanged ', 'gangbangs ',\n",
        "       'gaylord', 'gaysex', 'goatse', 'God', 'god-dam', 'god-damned',\n",
        "       'goddamn', 'goddamned', 'hardcoresex ', 'hell', 'heshe', 'hoar',\n",
        "       'hoare', 'hoer', 'homo', 'hore', 'horniest', 'horny', 'hotsex',\n",
        "       'jack-off ', 'jackoff', 'jap', 'jerk-off ', 'jism', 'jiz ',\n",
        "       'jizm ', 'jizz', 'kawk', 'knob', 'knobead', 'knobed', 'knobend',\n",
        "       'knobhead', 'knobjocky', 'knobjokey', 'kock', 'kondum', 'kondums',\n",
        "       'kum', 'kummer', 'kumming', 'kums', 'kunilingus', 'l3i+ch',\n",
        "       'l3itch', 'labia', 'lmfao', 'lust', 'lusting', 'm0f0', 'm0fo',\n",
        "       'm45terbate', 'ma5terb8', 'ma5terbate', 'masochist', 'master-bate',\n",
        "       'masterb8', 'masterbat*', 'masterbat3', 'masterbate',\n",
        "       'masterbation', 'masterbations', 'masturbate', 'mo-fo', 'mof0',\n",
        "       'mofo', 'mothafuck', 'mothafucka', 'mothafuckas', 'mothafuckaz',\n",
        "       'mothafucked ', 'mothafucker', 'mothafuckers', 'mothafuckin',\n",
        "       'mothafucking ', 'mothafuckings', 'mothafucks', 'mother fucker',\n",
        "       'motherfuck', 'motherfucked', 'motherfucker', 'motherfuckers',\n",
        "       'motherfuckin', 'motherfucking', 'motherfuckings', 'motherfuckka',\n",
        "       'motherfucks', 'muff', 'mutha', 'muthafecker', 'muthafuckker',\n",
        "       'muther', 'mutherfucker', 'n1gga', 'n1gger', 'nazi', 'nigg3r',\n",
        "       'nigg4h', 'nigga', 'niggah', 'niggas', 'niggaz', 'nigger',\n",
        "       'niggers ', 'nob', 'nob jokey', 'nobhead', 'nobjocky', 'nobjokey',\n",
        "       'numbnuts', 'nutsack', 'orgasim ', 'orgasims ', 'orgasm',\n",
        "       'orgasms ', 'p0rn', 'pawn', 'pecker', 'penis', 'penisfucker',\n",
        "       'phonesex', 'phuck', 'phuk', 'phuked', 'phuking', 'phukked',\n",
        "       'phukking', 'phuks', 'phuq', 'pigfucker', 'pimpis', 'piss',\n",
        "       'pissed', 'pisser', 'pissers', 'pisses ', 'pissflaps', 'pissin ',\n",
        "       'pissing', 'pissoff ', 'poop', 'porn', 'porno', 'pornography',\n",
        "       'pornos', 'prick', 'pricks ', 'pron', 'pube', 'pusse', 'pussi',\n",
        "       'pussies', 'pussy', 'pussys ', 'rectum', 'retard', 'rimjaw',\n",
        "       'rimming', 's hit', 's.o.b.', 'sadist', 'schlong', 'screwing',\n",
        "       'scroat', 'scrote', 'scrotum', 'semen', 'sex', 'sh!+', 'sh!t',\n",
        "       'sh1t', 'shag', 'shagger', 'shaggin', 'shagging', 'shemale',\n",
        "       'shi+', 'shit', 'shitdick', 'shite', 'shited', 'shitey',\n",
        "       'shitfuck', 'shitfull', 'shithead', 'shiting', 'shitings', 'shits',\n",
        "       'shitted', 'shitter', 'shitters ', 'shitting', 'shittings',\n",
        "       'shitty ', 'skank', 'slut', 'sluts', 'smegma', 'smut', 'snatch',\n",
        "       'son-of-a-bitch', 'spac', 'spunk', 's_h_i_t', 't1tt1e5', 't1tties',\n",
        "       'teets', 'teez', 'testical', 'testicle', 'tit', 'titfuck', 'tits',\n",
        "       'titt', 'tittie5', 'tittiefucker', 'titties', 'tittyfuck',\n",
        "       'tittywank', 'titwank', 'tosser', 'turd', 'tw4t', 'twat',\n",
        "       'twathead', 'twatty', 'twunt', 'twunter', 'v14gra', 'v1gra',\n",
        "       'vagina', 'viagra', 'vulva', 'w00se', 'wang', 'wank', 'wanker',\n",
        "       'wanky', 'whoar', 'whore', 'willies', 'willy', 'xrated', 'xxx']"
      ],
      "execution_count": 44,
      "outputs": []
    },
    {
      "cell_type": "code",
      "metadata": {
        "id": "bo4iJDxYCnal",
        "outputId": "319271f5-a814-4218-ead8-aaf28150edf7",
        "colab": {
          "base_uri": "https://localhost:8080/"
        }
      },
      "source": [
        "#convert to spacy format for removing punctuations and count the words\n",
        "myblog= nlp('This movie was by far the worst xxx movie that I have seen in my life. iam not even kidding. It was poorly made and the actors could not act. It was a waste of my time and money. It looked like a movie that my friends and I could have put together on our own. The case the movie came in is definitely a disguise. Nothing in the movie looks like the  asshole zombie on front of the case. It appears that the director or make-up artist has put bloody black eye liner under someones eyes an called them fucking zombie. The credits at the beginning of the movie take up almost 20 minutes of the movie. Which watching the credits was the best part of the movie. This was honestly an awful movie and I could not believe how badly it was put together. Scenes jumped from one thing to the other and sometimes u were like \"whats going on?\" The audio was awful and the action shots looked like a couple of teen joking around making a fake fight scene. It is a total waste of time and money and avoid it all costs')\n",
        "len_blog=[x.text for x in myblog if x.is_punct==False] # remove punctuation\n",
        "len(len_blog) # length of document\n",
        "\n"
      ],
      "execution_count": 45,
      "outputs": [
        {
          "output_type": "execute_result",
          "data": {
            "text/plain": [
              "200"
            ]
          },
          "metadata": {
            "tags": []
          },
          "execution_count": 45
        }
      ]
    },
    {
      "cell_type": "code",
      "metadata": {
        "id": "sp9cBkYYGf6k",
        "outputId": "6652915c-48d3-411e-95ad-3eebc670f528",
        "colab": {
          "base_uri": "https://localhost:8080/"
        }
      },
      "source": [
        "# used filter, lambda functions to compare both lists and retrieve common words\n",
        "get_swears= list(filter(lambda x: (x in len_blog), swears_list))\n",
        "get_swears"
      ],
      "execution_count": 46,
      "outputs": [
        {
          "output_type": "execute_result",
          "data": {
            "text/plain": [
              "['asshole', 'bloody', 'fucking', 'xxx']"
            ]
          },
          "metadata": {
            "tags": []
          },
          "execution_count": 46
        }
      ]
    },
    {
      "cell_type": "markdown",
      "metadata": {
        "id": "KTWrym9oNPLb"
      },
      "source": [
        "# 4.Using reduce functions: PTS:100\n",
        "add only even numbers in a list\n",
        "\n",
        "find the biggest character in a string (printable ascii characters)\n",
        "\n",
        "adds every 3rd number in a list"
      ]
    },
    {
      "cell_type": "code",
      "metadata": {
        "id": "YpfF_8mENUrA",
        "outputId": "a497ee38-e90b-40ad-a0d0-2eef539f5f6d",
        "colab": {
          "base_uri": "https://localhost:8080/"
        }
      },
      "source": [
        "#add only even numbers in a list\n",
        "import functools\n",
        "from functools import reduce\n",
        "num=[1,2,3,4,5,6,7,8,9,10]\n",
        "\n",
        "even_list= list(filter(lambda x: x%2==0,num))        #create a list of even numbers\n",
        "even_total = reduce(lambda x, y : x + y, even_list)  #get the total of even numbers\n",
        "\n",
        "print(f'sum of even numbers in the list is : {even_total}')"
      ],
      "execution_count": 47,
      "outputs": [
        {
          "output_type": "stream",
          "text": [
            "sum of even numbers in the list is : 30\n"
          ],
          "name": "stdout"
        }
      ]
    },
    {
      "cell_type": "code",
      "metadata": {
        "id": "xEfLjNZTOnu_",
        "outputId": "3f3a112c-4ed1-4558-ea6b-7bc2156b509f",
        "colab": {
          "base_uri": "https://localhost:8080/"
        }
      },
      "source": [
        "#find the biggest character in a string (printable ascii characters)\n",
        "\n",
        "\n",
        "import functools\n",
        "from functools import reduce\n",
        "\n",
        "astr='zebronics'\n",
        "\n",
        "get_char =[i for i in str(astr)]        #create a list of characters from string\n",
        "\n",
        "get_num  = [ord(i) for i in get_char]   # get the ascii for each character in a list\n",
        "\n",
        "get_dict=dict(zip(get_char,get_num))    # create a dictionary with above two lists\n",
        "\n",
        "\n",
        "get_ascii= reduce(lambda x, y: x if x > y else y,get_dict)# Using reduce to get max key value from dictionary\n",
        "\n",
        "print(f'biggest ascii character in the string is: {get_ascii}')\n",
        "\n"
      ],
      "execution_count": 48,
      "outputs": [
        {
          "output_type": "stream",
          "text": [
            "biggest ascii character in the string is: z\n"
          ],
          "name": "stdout"
        }
      ]
    },
    {
      "cell_type": "code",
      "metadata": {
        "id": "R8qPIYarPUMv"
      },
      "source": [
        "#adds every 3rd number in a list\n"
      ],
      "execution_count": 145,
      "outputs": []
    },
    {
      "cell_type": "markdown",
      "metadata": {
        "id": "0eFfTcjlLbUC"
      },
      "source": [
        "# 5.Using randint, random.choice and list comprehensions, write an expression that generates 15 random KADDAADDDD number plates, where KA is fixed, D stands for a digit, and A stands for Capital alphabets. 10<<DD<<99 & 1000<<DDDD<<9999 PTS:100"
      ]
    },
    {
      "cell_type": "markdown",
      "metadata": {
        "id": "glGzMb7SL-tS"
      },
      "source": [
        "format= KA-XX-YY-XXXX"
      ]
    },
    {
      "cell_type": "code",
      "metadata": {
        "id": "6vQtOKR2s6zr",
        "outputId": "94c4d196-4189-49f2-85df-fe5b38c108f1",
        "colab": {
          "base_uri": "https://localhost:8080/"
        }
      },
      "source": [
        "import random\n",
        "import string\n",
        "\n",
        "x_str=\"KA\"\n",
        "for i in range (15):\n",
        "    a = str(random.randrange(10,99))\n",
        "    arg1 =( x_str + a)\n",
        "    arg2 = ''.join(random.sample(string.ascii_uppercase,2))\n",
        "    arg3 = str(random.randrange(1000,9999))\n",
        "    print(arg1 + arg2+ arg3)\n"
      ],
      "execution_count": 49,
      "outputs": [
        {
          "output_type": "stream",
          "text": [
            "KA33TO3199\n",
            "KA64BQ5739\n",
            "KA20ZN2359\n",
            "KA76RC9768\n",
            "KA79PH6729\n",
            "KA31XY8147\n",
            "KA73UJ2304\n",
            "KA34EX8612\n",
            "KA53SH9374\n",
            "KA54GW4243\n",
            "KA34NV8681\n",
            "KA94OB9619\n",
            "KA35FP8043\n",
            "KA24EA9184\n",
            "KA55SY5438\n"
          ],
          "name": "stdout"
        }
      ]
    },
    {
      "cell_type": "markdown",
      "metadata": {
        "id": "ju05UrQ1vHFm"
      },
      "source": [
        "# 6.Write the above again from scratch where KA can be changed to DL, and 1000/9999 ranges can be provided.  PTS:100"
      ]
    },
    {
      "cell_type": "code",
      "metadata": {
        "id": "HON8vUFPvYsA",
        "outputId": "f3adb389-85b9-4291-a710-bbc42392bac0",
        "colab": {
          "base_uri": "https://localhost:8080/"
        }
      },
      "source": [
        "import random\n",
        "import string\n",
        "\n",
        "x_str=\"DL\"\n",
        "xinput=int(input(\"enter from range:\"))\n",
        "yinput=int(input(\"enter to range:\"))\n",
        "\n",
        "for i in range (15):\n",
        "    a = str(random.randrange(10,99))\n",
        "    arg1 =( x_str + a)\n",
        "    arg2 = ''.join(random.sample(string.ascii_uppercase,2))\n",
        "    arg3 = str(random.randrange(xinput,yinput))\n",
        "    print(arg1 + arg2+ arg3)"
      ],
      "execution_count": 50,
      "outputs": [
        {
          "output_type": "stream",
          "text": [
            "enter from range:1000\n",
            "enter to range:9999\n",
            "DL36DE1064\n",
            "DL82HS5724\n",
            "DL90HQ1770\n",
            "DL89MV7182\n",
            "DL75JE7801\n",
            "DL14OZ5444\n",
            "DL51CQ1480\n",
            "DL64TO7180\n",
            "DL62GZ6352\n",
            "DL72DW8266\n",
            "DL55GE1984\n",
            "DL58CZ6739\n",
            "DL90TH8714\n",
            "DL60IK2297\n",
            "DL32WF8340\n"
          ],
          "name": "stdout"
        }
      ]
    }
  ]
}